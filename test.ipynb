{
 "cells": [
  {
   "cell_type": "code",
   "execution_count": 133,
   "id": "0a1bdba7",
   "metadata": {},
   "outputs": [],
   "source": [
    "from pysat.solvers import Glucose3\n",
    "from pysat.formula import CNF\n",
    "from matplotlib import pyplot as plt\n",
    "from matplotlib.colors import ListedColormap\n",
    "from itertools import combinations\n",
    "import numpy as np\n",
    "import random\n",
    "import time"
   ]
  },
  {
   "cell_type": "code",
   "execution_count": 17,
   "id": "8a9c1f45",
   "metadata": {},
   "outputs": [],
   "source": [
    "# KN(k,n) = U(k,n) ^ L(k,n)\n",
    "# KN(k,n): k out of n adjacent unknown squares are mines\n",
    "# U(k,n): At most k out of n squares contain a mine\n",
    "# L(k,n): At least k out of n squares contain a mine\n",
    "\n",
    "# Conversion to at least\n",
    "# The proposition holds True if and only if k > 0 and k + 1 <= n\n",
    "# U(k,n): For any k+1 squares out of n, at least one is not a mine\n",
    "# L(k,n): For any n-(k-1) squares out of n, at least one is mine\n",
    "\n",
    "# With the problem: The number of unknown squares = The number of adjacent squares"
   ]
  },
  {
   "cell_type": "code",
   "execution_count": 134,
   "id": "97bbb342",
   "metadata": {},
   "outputs": [
    {
     "name": "stdout",
     "output_type": "stream",
     "text": [
      "True\n",
      "[-1, 2, -3]\n"
     ]
    }
   ],
   "source": [
    "g = Glucose3()\n",
    "\n",
    "g.add_clause([-1, -2])\n",
    "g.add_clause([-2, -3])\n",
    "g.add_clause([-3, -1])\n",
    "g.add_clause([1, 2, 3])\n",
    "\n",
    "g.add_clause([1, 2])\n",
    "\n",
    "g.add_clause([2, 3])\n",
    "\n",
    "print(g.solve())\n",
    "print(g.get_model())"
   ]
  },
  {
   "cell_type": "code",
   "execution_count": 135,
   "id": "eea1d24e",
   "metadata": {},
   "outputs": [],
   "source": [
    "def isValid(x, y, shape):\n",
    "    \"\"\"\n",
    "    Input:\n",
    "        x, y: integers\n",
    "        shape: The shape of the matrix\n",
    "    Output:\n",
    "        Returns True if x, y are valid matrix indices. Otherwise, returns False\n",
    "    \"\"\"\n",
    "    return x >= 0 and y >= 0 and x < shape[0] and y < shape[1]\n",
    "    \n",
    "\n",
    "def createPuzzle(shape, threshold):\n",
    "    \"\"\"\n",
    "    Input:\n",
    "        shape: A tuple of 2 integers. E.g: (4, 5)\n",
    "        threshold: A threshold to use probability when generating a random number \n",
    "    Output:\n",
    "        puzzle: A numpy array\n",
    "    \"\"\"\n",
    "    dx = [-1, 0, 1, -1, 0, 1, -1, 0, 1]\n",
    "    dy = [0, 0, 0, -1, -1, -1, 1, 1, 1]\n",
    "    num_rows = shape[0]\n",
    "    num_cols = shape[1]\n",
    "    matrix = np.zeros(shape=shape)\n",
    "    \n",
    "    for x in range(num_rows):\n",
    "        for y in range(num_cols):\n",
    "            rand = random.randint(0, 99)\n",
    "            \n",
    "            if rand < threshold:\n",
    "                matrix[x][y] = True\n",
    "            else:\n",
    "                matrix[x][y] = False\n",
    "    \n",
    "    \n",
    "    # Count the number of adjacent squares and stores it in arr\n",
    "    arr = np.zeros(shape=shape)\n",
    "    for x in range(num_rows):\n",
    "        for y in range(num_cols):\n",
    "            for k in range(9):\n",
    "                if isValid(x+dx[k], y+dy[k], shape) and matrix[x+dx[k]][y+dy[k]]:\n",
    "                    arr[x][y] += 1\n",
    "            print(round(arr[x][y]), end=' ')\n",
    "        print()\n",
    "    return arr.astype(int)\n",
    "        \n",
    "    \n",
    "\n",
    "            \n",
    "    \n",
    "    \n",
    "    "
   ]
  },
  {
   "cell_type": "code",
   "execution_count": 136,
   "id": "aa8af932",
   "metadata": {},
   "outputs": [
    {
     "name": "stdout",
     "output_type": "stream",
     "text": [
      "1 1 1 0 0 0 0 0 0 0 \n",
      "1 1 1 1 1 1 0 0 0 0 \n",
      "1 1 1 1 1 1 0 0 0 0 \n",
      "0 1 2 3 2 1 1 1 1 0 \n",
      "1 2 2 2 1 1 2 2 1 0 \n",
      "2 4 4 3 1 1 2 2 1 0 \n",
      "2 3 2 1 1 2 2 1 0 0 \n",
      "2 4 3 2 1 1 1 0 0 0 \n",
      "1 2 2 2 2 1 1 1 1 1 \n",
      "1 2 2 2 1 0 0 1 1 1 \n"
     ]
    }
   ],
   "source": [
    "m = createPuzzle((10,10), 15)"
   ]
  },
  {
   "cell_type": "code",
   "execution_count": 137,
   "id": "1463216a",
   "metadata": {},
   "outputs": [
    {
     "data": {
      "text/plain": [
       "array([[1, 1, 1, 0, 0, 0, 0, 0, 0, 0],\n",
       "       [1, 1, 1, 1, 1, 1, 0, 0, 0, 0],\n",
       "       [1, 1, 1, 1, 1, 1, 0, 0, 0, 0],\n",
       "       [0, 1, 2, 3, 2, 1, 1, 1, 1, 0],\n",
       "       [1, 2, 2, 2, 1, 1, 2, 2, 1, 0],\n",
       "       [2, 4, 4, 3, 1, 1, 2, 2, 1, 0],\n",
       "       [2, 3, 2, 1, 1, 2, 2, 1, 0, 0],\n",
       "       [2, 4, 3, 2, 1, 1, 1, 0, 0, 0],\n",
       "       [1, 2, 2, 2, 2, 1, 1, 1, 1, 1],\n",
       "       [1, 2, 2, 2, 1, 0, 0, 1, 1, 1]])"
      ]
     },
     "execution_count": 137,
     "metadata": {},
     "output_type": "execute_result"
    }
   ],
   "source": [
    "m"
   ]
  },
  {
   "cell_type": "code",
   "execution_count": 217,
   "id": "2ddfd2e5",
   "metadata": {},
   "outputs": [],
   "source": [
    "def display(model, shape, matrix):\n",
    "    mod = np.array(model).reshape(shape)\n",
    "    mod = mod > 0\n",
    "    \n",
    "    fig, ax = plt.subplots()\n",
    "    \n",
    "    cmap = ListedColormap(['w', 'g'])\n",
    "    ax.matshow(mod, cmap=cmap)\n",
    "    \n",
    "    num_rows = matrix.shape[0]\n",
    "    num_cols = matrix.shape[1]\n",
    "    for i in range(num_rows):\n",
    "        for j in range(num_cols):\n",
    "            value = matrix[i][j]\n",
    "            ax.text(j, i, value , va='center', ha='center')\n",
    "    \n",
    "    \n",
    "    "
   ]
  },
  {
   "cell_type": "code",
   "execution_count": 218,
   "id": "04f179db",
   "metadata": {},
   "outputs": [],
   "source": [
    "def solve(matrix):\n",
    "    \"\"\"\n",
    "    Input:\n",
    "        matrix: A numpy array\n",
    "    \"\"\"\n",
    "    start = time.time()\n",
    "    g = Glucose3() # A SAT-solver\n",
    "    \n",
    "    num_rows = matrix.shape[0]\n",
    "    num_cols = matrix.shape[1]\n",
    "    dx = [-1, 0, 1, -1, 0, 1, -1, 0, 1]\n",
    "    dy = [0, 0, 0, -1, -1, -1, 1, 1, 1]\n",
    "    U = list()\n",
    "    L = list()\n",
    "    \n",
    "    for x in range(num_rows):\n",
    "        for y in range(num_cols):\n",
    "            adjacents = list()\n",
    "            for z in range(9):\n",
    "                if isValid(x+dx[z], y+dy[z], matrix.shape):\n",
    "                    adjacents.append(1 + (x+dx[z])*num_cols + y+dy[z]) # convert 2d array indexes to 1d array indexes (one-based indexes)\n",
    "            \n",
    "            k = int(matrix[x][y])\n",
    "            n = len(adjacents)\n",
    "            for combination in combinations(adjacents, k+1):\n",
    "                U.append({i*-1 for i in combination}) # element-wise multiplication with -1\n",
    "            \n",
    "            for combination in combinations(adjacents, n - k + 1):\n",
    "                L.append(set(combination))\n",
    "            \n",
    "    for clause in np.unique(U):\n",
    "        g.add_clause(clause)\n",
    "            \n",
    "    for clause in np.unique(L):\n",
    "        g.add_clause(clause)\n",
    "            \n",
    "    if not g.solve():\n",
    "        print('No solutions!')\n",
    "    else:\n",
    "        \n",
    "        model = g.get_model()\n",
    "        display(model, shape=matrix.shape, matrix=matrix)\n",
    "        print('Solving time: {} s'.format(time.time() - start))\n",
    "        \n",
    "        \n",
    "        "
   ]
  },
  {
   "cell_type": "code",
   "execution_count": 219,
   "id": "3f1cbd73",
   "metadata": {},
   "outputs": [
    {
     "data": {
      "text/plain": [
       "array([[1, 1, 1, 0, 0, 0, 0, 0, 0, 0],\n",
       "       [1, 1, 1, 1, 1, 1, 0, 0, 0, 0],\n",
       "       [1, 1, 1, 1, 1, 1, 0, 0, 0, 0],\n",
       "       [0, 1, 2, 3, 2, 1, 1, 1, 1, 0],\n",
       "       [1, 2, 2, 2, 1, 1, 2, 2, 1, 0],\n",
       "       [2, 4, 4, 3, 1, 1, 2, 2, 1, 0],\n",
       "       [2, 3, 2, 1, 1, 2, 2, 1, 0, 0],\n",
       "       [2, 4, 3, 2, 1, 1, 1, 0, 0, 0],\n",
       "       [1, 2, 2, 2, 2, 1, 1, 1, 1, 1],\n",
       "       [1, 2, 2, 2, 1, 0, 0, 1, 1, 1]])"
      ]
     },
     "execution_count": 219,
     "metadata": {},
     "output_type": "execute_result"
    }
   ],
   "source": [
    "m"
   ]
  },
  {
   "cell_type": "code",
   "execution_count": 220,
   "id": "7f626bbb",
   "metadata": {},
   "outputs": [
    {
     "name": "stdout",
     "output_type": "stream",
     "text": [
      "Solving time: 0.11328625679016113 s\n"
     ]
    },
    {
     "data": {
      "image/png": "[encoded data removed]",
      "text/plain": [
       "<Figure size 432x288 with 1 Axes>"
      ]
     },
     "metadata": {
      "needs_background": "light"
     },
     "output_type": "display_data"
    }
   ],
   "source": [
    "solve(m)"
   ]
  },
  {
   "cell_type": "code",
   "execution_count": null,
   "id": "1a1bb75d",
   "metadata": {},
   "outputs": [],
   "source": []
  }
 ],
 "metadata": {
  "kernelspec": {
   "display_name": "Python 3 (ipykernel)",
   "language": "python",
   "name": "python3"
  },
  "language_info": {
   "codemirror_mode": {
    "name": "ipython",
    "version": 3
   },
   "file_extension": ".py",
   "mimetype": "text/x-python",
   "name": "python",
   "nbconvert_exporter": "python",
   "pygments_lexer": "ipython3",
   "version": "3.9.7"
  }
 },
 "nbformat": 4,
 "nbformat_minor": 5
}
